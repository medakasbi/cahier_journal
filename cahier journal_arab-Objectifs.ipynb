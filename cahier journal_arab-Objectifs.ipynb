{
 "cells": [
  {
   "cell_type": "code",
   "execution_count": 28,
   "metadata": {},
   "outputs": [
    {
     "data": {
      "text/plain": [
       "'C:\\\\Users\\\\asus-A9\\\\Documents\\\\GitHub\\\\AnacondaWorkingSpace\\\\Python\\\\cahier_journal'"
      ]
     },
     "execution_count": 28,
     "metadata": {},
     "output_type": "execute_result"
    }
   ],
   "source": [
    "pwd"
   ]
  },
  {
   "cell_type": "code",
   "execution_count": 29,
   "metadata": {},
   "outputs": [],
   "source": [
    "st = \"SI((NO.SEMAINE($C$3)-1)=dates!$C$5;francais_5!$E$5\""
   ]
  },
  {
   "cell_type": "code",
   "execution_count": 30,
   "metadata": {},
   "outputs": [],
   "source": [
    "def obj_arab_lundi(niveau, matiere):\n",
    "    ans = \"\"\n",
    "    for idx in range(1, 40):\n",
    "        ans += \"SI((NO.SEMAINE($C$3)-1)=dates!$C$\"+str(idx)+\",obj_arab_\" + str(niveau)+\"!$\"+matiere+\"$\"+str(idx)+\",\"\n",
    "    ans += 40*\")\"\n",
    "    return \"=\" + ans\n",
    "    pass"
   ]
  },
  {
   "cell_type": "code",
   "execution_count": 31,
   "metadata": {},
   "outputs": [],
   "source": [
    "def obj_arab(niveau, matiere):\n",
    "    ans = \"\"\n",
    "    for idx in range(1, 40):\n",
    "        ans += \"SI((NO.SEMAINE($C$3))=dates!$C$\"+str(idx)+\",obj_arab_\" + str(niveau)+\"!$\"+matiere+\"$\"+str(idx)+\",\"\n",
    "    ans += 40*\")\"\n",
    "    return \"=\" + ans\n",
    "    pass"
   ]
  },
  {
   "cell_type": "code",
   "execution_count": 32,
   "metadata": {},
   "outputs": [],
   "source": [
    "islamic1 = \"D\"\n",
    "islamic2 = \"E\"\n",
    "qiraa = \"F\"\n",
    "tarakib = \"G\"\n",
    "sarf = \"H\"\n",
    "chakl_imlaa = \"I\" \n",
    "inchaa =  \"J\"\n",
    "hg1 = \"K\"\n",
    "hg2 = \"L\"\n",
    "art = \"M\"\n",
    "sci = \"N\"\n",
    "amazigh = \"O\""
   ]
  },
  {
   "cell_type": "code",
   "execution_count": 34,
   "metadata": {},
   "outputs": [
    {
     "name": "stdout",
     "output_type": "stream",
     "text": [
      "=SI((NO.SEMAINE($C$3)-1)=dates!$C$1,obj_arab_6!$O$1,SI((NO.SEMAINE($C$3)-1)=dates!$C$2,obj_arab_6!$O$2,SI((NO.SEMAINE($C$3)-1)=dates!$C$3,obj_arab_6!$O$3,SI((NO.SEMAINE($C$3)-1)=dates!$C$4,obj_arab_6!$O$4,SI((NO.SEMAINE($C$3)-1)=dates!$C$5,obj_arab_6!$O$5,SI((NO.SEMAINE($C$3)-1)=dates!$C$6,obj_arab_6!$O$6,SI((NO.SEMAINE($C$3)-1)=dates!$C$7,obj_arab_6!$O$7,SI((NO.SEMAINE($C$3)-1)=dates!$C$8,obj_arab_6!$O$8,SI((NO.SEMAINE($C$3)-1)=dates!$C$9,obj_arab_6!$O$9,SI((NO.SEMAINE($C$3)-1)=dates!$C$10,obj_arab_6!$O$10,SI((NO.SEMAINE($C$3)-1)=dates!$C$11,obj_arab_6!$O$11,SI((NO.SEMAINE($C$3)-1)=dates!$C$12,obj_arab_6!$O$12,SI((NO.SEMAINE($C$3)-1)=dates!$C$13,obj_arab_6!$O$13,SI((NO.SEMAINE($C$3)-1)=dates!$C$14,obj_arab_6!$O$14,SI((NO.SEMAINE($C$3)-1)=dates!$C$15,obj_arab_6!$O$15,SI((NO.SEMAINE($C$3)-1)=dates!$C$16,obj_arab_6!$O$16,SI((NO.SEMAINE($C$3)-1)=dates!$C$17,obj_arab_6!$O$17,SI((NO.SEMAINE($C$3)-1)=dates!$C$18,obj_arab_6!$O$18,SI((NO.SEMAINE($C$3)-1)=dates!$C$19,obj_arab_6!$O$19,SI((NO.SEMAINE($C$3)-1)=dates!$C$20,obj_arab_6!$O$20,SI((NO.SEMAINE($C$3)-1)=dates!$C$21,obj_arab_6!$O$21,SI((NO.SEMAINE($C$3)-1)=dates!$C$22,obj_arab_6!$O$22,SI((NO.SEMAINE($C$3)-1)=dates!$C$23,obj_arab_6!$O$23,SI((NO.SEMAINE($C$3)-1)=dates!$C$24,obj_arab_6!$O$24,SI((NO.SEMAINE($C$3)-1)=dates!$C$25,obj_arab_6!$O$25,SI((NO.SEMAINE($C$3)-1)=dates!$C$26,obj_arab_6!$O$26,SI((NO.SEMAINE($C$3)-1)=dates!$C$27,obj_arab_6!$O$27,SI((NO.SEMAINE($C$3)-1)=dates!$C$28,obj_arab_6!$O$28,SI((NO.SEMAINE($C$3)-1)=dates!$C$29,obj_arab_6!$O$29,SI((NO.SEMAINE($C$3)-1)=dates!$C$30,obj_arab_6!$O$30,SI((NO.SEMAINE($C$3)-1)=dates!$C$31,obj_arab_6!$O$31,SI((NO.SEMAINE($C$3)-1)=dates!$C$32,obj_arab_6!$O$32,SI((NO.SEMAINE($C$3)-1)=dates!$C$33,obj_arab_6!$O$33,SI((NO.SEMAINE($C$3)-1)=dates!$C$34,obj_arab_6!$O$34,SI((NO.SEMAINE($C$3)-1)=dates!$C$35,obj_arab_6!$O$35,SI((NO.SEMAINE($C$3)-1)=dates!$C$36,obj_arab_6!$O$36,SI((NO.SEMAINE($C$3)-1)=dates!$C$37,obj_arab_6!$O$37,SI((NO.SEMAINE($C$3)-1)=dates!$C$38,obj_arab_6!$O$38,SI((NO.SEMAINE($C$3)-1)=dates!$C$39,obj_arab_6!$O$39,))))))))))))))))))))))))))))))))))))))))\n"
     ]
    }
   ],
   "source": [
    "print(obj_arab_lundi(6, amazigh))"
   ]
  },
  {
   "cell_type": "code",
   "execution_count": null,
   "metadata": {},
   "outputs": [],
   "source": []
  }
 ],
 "metadata": {
  "kernelspec": {
   "display_name": "Python 3",
   "language": "python",
   "name": "python3"
  },
  "language_info": {
   "codemirror_mode": {
    "name": "ipython",
    "version": 3
   },
   "file_extension": ".py",
   "mimetype": "text/x-python",
   "name": "python",
   "nbconvert_exporter": "python",
   "pygments_lexer": "ipython3",
   "version": "3.7.1"
  }
 },
 "nbformat": 4,
 "nbformat_minor": 2
}
