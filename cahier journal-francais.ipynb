{
 "cells": [
  {
   "cell_type": "code",
   "execution_count": 5,
   "metadata": {},
   "outputs": [
    {
     "data": {
      "text/plain": [
       "'C:\\\\Users\\\\souss'"
      ]
     },
     "execution_count": 5,
     "metadata": {},
     "output_type": "execute_result"
    }
   ],
   "source": [
    "pwd"
   ]
  },
  {
   "cell_type": "code",
   "execution_count": 6,
   "metadata": {
    "collapsed": true
   },
   "outputs": [],
   "source": [
    "st = \"SI((NO.SEMAINE($C$3)-1)=dates!$C$5;francais_5!$E$5\""
   ]
  },
  {
   "cell_type": "code",
   "execution_count": 12,
   "metadata": {
    "collapsed": true
   },
   "outputs": [],
   "source": [
    "def fran_lundi(niveau, matiere):\n",
    "    ans = \"\"\n",
    "    for idx in range(35):\n",
    "        ans += \"SI((NO.SEMAINE($C$3)-1)=dates!$C$\"+str(5+idx)+\";francais_\" + str(niveau)+\"!$\"+matiere+\"$\"+str(5+idx)+\";\"\n",
    "    ans += 35*\")\"\n",
    "    return \"=\" + ans\n",
    "    pass"
   ]
  },
  {
   "cell_type": "code",
   "execution_count": 13,
   "metadata": {
    "collapsed": true
   },
   "outputs": [],
   "source": [
    "def fran(niveau, matiere):\n",
    "    ans = \"\"\n",
    "    for idx in range(35):\n",
    "        ans += \"SI((NO.SEMAINE($C$3))=dates!$C$\"+str(5+idx)+\";francais_\" + str(niveau)+\"!$\"+matiere+\"$\"+str(5+idx)+\";\"\n",
    "    ans += 35*\")\"\n",
    "    return \"=\" + ans\n",
    "    pass"
   ]
  },
  {
   "cell_type": "code",
   "execution_count": 27,
   "metadata": {
    "collapsed": true
   },
   "outputs": [],
   "source": [
    "math1 = \"D\"\n",
    "math2 = \"E\"\n",
    "communication = \"F\"\n",
    "lecture_comprehension = \"G\"\n",
    "grammaire = \"H\"\n",
    "conjugaison = \"I\" \n",
    "lexique =  \"J\"\n",
    "orthographe = \"K\"\n",
    "production_de_l_ecrit = \"L\"\n",
    "lecture_diction = \"M\"\n",
    "projet_de_classe = \"N\"\n",
    "education_sportive = \"O\""
   ]
  },
  {
   "cell_type": "code",
   "execution_count": 30,
   "metadata": {},
   "outputs": [
    {
     "name": "stdout",
     "output_type": "stream",
     "text": [
      "=SI((NO.SEMAINE($C$3))=dates!$C$5;francais_5!$O$5;SI((NO.SEMAINE($C$3))=dates!$C$6;francais_5!$O$6;SI((NO.SEMAINE($C$3))=dates!$C$7;francais_5!$O$7;SI((NO.SEMAINE($C$3))=dates!$C$8;francais_5!$O$8;SI((NO.SEMAINE($C$3))=dates!$C$9;francais_5!$O$9;SI((NO.SEMAINE($C$3))=dates!$C$10;francais_5!$O$10;SI((NO.SEMAINE($C$3))=dates!$C$11;francais_5!$O$11;SI((NO.SEMAINE($C$3))=dates!$C$12;francais_5!$O$12;SI((NO.SEMAINE($C$3))=dates!$C$13;francais_5!$O$13;SI((NO.SEMAINE($C$3))=dates!$C$14;francais_5!$O$14;SI((NO.SEMAINE($C$3))=dates!$C$15;francais_5!$O$15;SI((NO.SEMAINE($C$3))=dates!$C$16;francais_5!$O$16;SI((NO.SEMAINE($C$3))=dates!$C$17;francais_5!$O$17;SI((NO.SEMAINE($C$3))=dates!$C$18;francais_5!$O$18;SI((NO.SEMAINE($C$3))=dates!$C$19;francais_5!$O$19;SI((NO.SEMAINE($C$3))=dates!$C$20;francais_5!$O$20;SI((NO.SEMAINE($C$3))=dates!$C$21;francais_5!$O$21;SI((NO.SEMAINE($C$3))=dates!$C$22;francais_5!$O$22;SI((NO.SEMAINE($C$3))=dates!$C$23;francais_5!$O$23;SI((NO.SEMAINE($C$3))=dates!$C$24;francais_5!$O$24;SI((NO.SEMAINE($C$3))=dates!$C$25;francais_5!$O$25;SI((NO.SEMAINE($C$3))=dates!$C$26;francais_5!$O$26;SI((NO.SEMAINE($C$3))=dates!$C$27;francais_5!$O$27;SI((NO.SEMAINE($C$3))=dates!$C$28;francais_5!$O$28;SI((NO.SEMAINE($C$3))=dates!$C$29;francais_5!$O$29;SI((NO.SEMAINE($C$3))=dates!$C$30;francais_5!$O$30;SI((NO.SEMAINE($C$3))=dates!$C$31;francais_5!$O$31;SI((NO.SEMAINE($C$3))=dates!$C$32;francais_5!$O$32;SI((NO.SEMAINE($C$3))=dates!$C$33;francais_5!$O$33;SI((NO.SEMAINE($C$3))=dates!$C$34;francais_5!$O$34;SI((NO.SEMAINE($C$3))=dates!$C$35;francais_5!$O$35;SI((NO.SEMAINE($C$3))=dates!$C$36;francais_5!$O$36;SI((NO.SEMAINE($C$3))=dates!$C$37;francais_5!$O$37;SI((NO.SEMAINE($C$3))=dates!$C$38;francais_5!$O$38;SI((NO.SEMAINE($C$3))=dates!$C$39;francais_5!$O$39;)))))))))))))))))))))))))))))))))))\n"
     ]
    }
   ],
   "source": [
    "print(fran(5, education_sportive))"
   ]
  },
  {
   "cell_type": "code",
   "execution_count": null,
   "metadata": {
    "collapsed": true
   },
   "outputs": [],
   "source": []
  }
 ],
 "metadata": {
  "kernelspec": {
   "display_name": "Python 3",
   "language": "python",
   "name": "python3"
  },
  "language_info": {
   "codemirror_mode": {
    "name": "ipython",
    "version": 3
   },
   "file_extension": ".py",
   "mimetype": "text/x-python",
   "name": "python",
   "nbconvert_exporter": "python",
   "pygments_lexer": "ipython3",
   "version": "3.6.2"
  }
 },
 "nbformat": 4,
 "nbformat_minor": 2
}
