{
 "cells": [
  {
   "cell_type": "code",
   "execution_count": 5,
   "metadata": {},
   "outputs": [
    {
     "data": {
      "text/plain": [
       "'C:\\\\Users\\\\souss'"
      ]
     },
     "execution_count": 5,
     "metadata": {},
     "output_type": "execute_result"
    }
   ],
   "source": [
    "pwd"
   ]
  },
  {
   "cell_type": "code",
   "execution_count": 7,
   "metadata": {},
   "outputs": [],
   "source": [
    "st = \"SI((NO.SEMAINE($C$3)-1)=dates!$C$2;francais_5!$E$5\""
   ]
  },
  {
   "cell_type": "code",
   "execution_count": 7,
   "metadata": {},
   "outputs": [],
   "source": [
    "def fran_lundi(niveau, matiere):\n",
    "    ans = \"\"\n",
    "    for idx in range(1, 40):\n",
    "        ans += \"SI((NO.SEMAINE($C$3)-1)=dates!$C$\"+str(idx)+\",francais_\" + str(niveau)+\"!$\"+matiere+\"$\"+str(idx)+\",\"\n",
    "    ans += 40*\")\"\n",
    "    return \"=\" + ans\n",
    "    pass"
   ]
  },
  {
   "cell_type": "code",
   "execution_count": 8,
   "metadata": {},
   "outputs": [],
   "source": [
    "def fran(niveau, matiere):\n",
    "    ans = \"\"\n",
    "    for idx in range(1, 40):\n",
    "        ans += \"SI((NO.SEMAINE($C$3))=dates!$C$\"+str(idx)+\",francais_\" + str(niveau)+\"!$\"+matiere+\"$\"+str(idx)+\",\"\n",
    "    ans += 40*\")\"\n",
    "    return \"=\" + ans\n",
    "    pass"
   ]
  },
  {
   "cell_type": "code",
   "execution_count": 9,
   "metadata": {},
   "outputs": [],
   "source": [
    "math1 = \"D\"\n",
    "math2 = \"E\"\n",
    "communication = \"F\"\n",
    "lecture_comprehension = \"G\"\n",
    "grammaire = \"H\"\n",
    "conjugaison = \"I\" \n",
    "lexique =  \"J\"\n",
    "orthographe = \"K\"\n",
    "production_de_l_ecrit = \"L\"\n",
    "lecture_diction = \"M\"\n",
    "projet_de_classe = \"N\"\n",
    "education_sportive = \"O\""
   ]
  },
  {
   "cell_type": "code",
   "execution_count": 14,
   "metadata": {},
   "outputs": [
    {
     "name": "stdout",
     "output_type": "stream",
     "text": [
      "=SI((NO.SEMAINE($C$3)-1)=dates!$C$1,francais_6!$E$1,SI((NO.SEMAINE($C$3)-1)=dates!$C$2,francais_6!$E$2,SI((NO.SEMAINE($C$3)-1)=dates!$C$3,francais_6!$E$3,SI((NO.SEMAINE($C$3)-1)=dates!$C$4,francais_6!$E$4,SI((NO.SEMAINE($C$3)-1)=dates!$C$5,francais_6!$E$5,SI((NO.SEMAINE($C$3)-1)=dates!$C$6,francais_6!$E$6,SI((NO.SEMAINE($C$3)-1)=dates!$C$7,francais_6!$E$7,SI((NO.SEMAINE($C$3)-1)=dates!$C$8,francais_6!$E$8,SI((NO.SEMAINE($C$3)-1)=dates!$C$9,francais_6!$E$9,SI((NO.SEMAINE($C$3)-1)=dates!$C$10,francais_6!$E$10,SI((NO.SEMAINE($C$3)-1)=dates!$C$11,francais_6!$E$11,SI((NO.SEMAINE($C$3)-1)=dates!$C$12,francais_6!$E$12,SI((NO.SEMAINE($C$3)-1)=dates!$C$13,francais_6!$E$13,SI((NO.SEMAINE($C$3)-1)=dates!$C$14,francais_6!$E$14,SI((NO.SEMAINE($C$3)-1)=dates!$C$15,francais_6!$E$15,SI((NO.SEMAINE($C$3)-1)=dates!$C$16,francais_6!$E$16,SI((NO.SEMAINE($C$3)-1)=dates!$C$17,francais_6!$E$17,SI((NO.SEMAINE($C$3)-1)=dates!$C$18,francais_6!$E$18,SI((NO.SEMAINE($C$3)-1)=dates!$C$19,francais_6!$E$19,SI((NO.SEMAINE($C$3)-1)=dates!$C$20,francais_6!$E$20,SI((NO.SEMAINE($C$3)-1)=dates!$C$21,francais_6!$E$21,SI((NO.SEMAINE($C$3)-1)=dates!$C$22,francais_6!$E$22,SI((NO.SEMAINE($C$3)-1)=dates!$C$23,francais_6!$E$23,SI((NO.SEMAINE($C$3)-1)=dates!$C$24,francais_6!$E$24,SI((NO.SEMAINE($C$3)-1)=dates!$C$25,francais_6!$E$25,SI((NO.SEMAINE($C$3)-1)=dates!$C$26,francais_6!$E$26,SI((NO.SEMAINE($C$3)-1)=dates!$C$27,francais_6!$E$27,SI((NO.SEMAINE($C$3)-1)=dates!$C$28,francais_6!$E$28,SI((NO.SEMAINE($C$3)-1)=dates!$C$29,francais_6!$E$29,SI((NO.SEMAINE($C$3)-1)=dates!$C$30,francais_6!$E$30,SI((NO.SEMAINE($C$3)-1)=dates!$C$31,francais_6!$E$31,SI((NO.SEMAINE($C$3)-1)=dates!$C$32,francais_6!$E$32,SI((NO.SEMAINE($C$3)-1)=dates!$C$33,francais_6!$E$33,SI((NO.SEMAINE($C$3)-1)=dates!$C$34,francais_6!$E$34,SI((NO.SEMAINE($C$3)-1)=dates!$C$35,francais_6!$E$35,SI((NO.SEMAINE($C$3)-1)=dates!$C$36,francais_6!$E$36,SI((NO.SEMAINE($C$3)-1)=dates!$C$37,francais_6!$E$37,SI((NO.SEMAINE($C$3)-1)=dates!$C$38,francais_6!$E$38,SI((NO.SEMAINE($C$3)-1)=dates!$C$39,francais_6!$E$39,))))))))))))))))))))))))))))))))))))))))\n"
     ]
    }
   ],
   "source": [
    "print(fran_lundi(6, math2))"
   ]
  },
  {
   "cell_type": "code",
   "execution_count": null,
   "metadata": {},
   "outputs": [],
   "source": []
  },
  {
   "cell_type": "code",
   "execution_count": null,
   "metadata": {},
   "outputs": [],
   "source": []
  }
 ],
 "metadata": {
  "kernelspec": {
   "display_name": "Python 3",
   "language": "python",
   "name": "python3"
  },
  "language_info": {
   "codemirror_mode": {
    "name": "ipython",
    "version": 3
   },
   "file_extension": ".py",
   "mimetype": "text/x-python",
   "name": "python",
   "nbconvert_exporter": "python",
   "pygments_lexer": "ipython3",
   "version": "3.7.1"
  }
 },
 "nbformat": 4,
 "nbformat_minor": 2
}
