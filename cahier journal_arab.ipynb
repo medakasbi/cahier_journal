{
 "cells": [
  {
   "cell_type": "code",
   "execution_count": 3,
   "metadata": {},
   "outputs": [
    {
     "data": {
      "text/plain": [
       "'C:\\\\Users\\\\asus-A9\\\\Documents\\\\GitHub\\\\AnacondaWorkingSpace\\\\Python\\\\cahier_journal'"
      ]
     },
     "execution_count": 3,
     "metadata": {},
     "output_type": "execute_result"
    }
   ],
   "source": [
    "pwd"
   ]
  },
  {
   "cell_type": "code",
   "execution_count": 4,
   "metadata": {},
   "outputs": [],
   "source": [
    "st = \"SI((NO.SEMAINE($C$3)-1)=dates!$C$5;francais_5!$E$5\""
   ]
  },
  {
   "cell_type": "code",
   "execution_count": 64,
   "metadata": {},
   "outputs": [],
   "source": [
    "def arab_lundi(niveau, matiere):\n",
    "    ans = \"\"\n",
    "    for idx in range(1, 40):\n",
    "        ans += \"SI((NO.SEMAINE($C$3)-1)=dates!$C$\"+str(idx)+\",arab_\" + str(niveau)+\"!$\"+matiere+\"$\"+str(idx)+\",\"\n",
    "    ans += 40*\")\"\n",
    "    return \"=\" + ans\n",
    "    pass"
   ]
  },
  {
   "cell_type": "code",
   "execution_count": 65,
   "metadata": {},
   "outputs": [],
   "source": [
    "def arab(niveau, matiere):\n",
    "    ans = \"\"\n",
    "    for idx in range(1,40):\n",
    "        ans += \"SI((NO.SEMAINE($C$3))=dates!$C$\"+str(idx)+\",arab_\" + str(niveau)+\"!$\"+matiere+\"$\"+str(idx)+\",\"\n",
    "    ans += 40*\")\"\n",
    "    return \"=\" + ans\n",
    "    pass"
   ]
  },
  {
   "cell_type": "code",
   "execution_count": 66,
   "metadata": {},
   "outputs": [],
   "source": [
    "islamic1 = \"D\"\n",
    "islamic2 = \"E\"\n",
    "qiraa = \"F\"\n",
    "tarakib = \"G\"\n",
    "sarf = \"H\"\n",
    "chakl_imlaa = \"I\" \n",
    "inchaa =  \"J\"\n",
    "hg1 = \"K\"\n",
    "hg2 = \"L\"\n",
    "art = \"M\"\n",
    "sci = \"N\"\n",
    "amazigh = \"o\""
   ]
  },
  {
   "cell_type": "code",
   "execution_count": 86,
   "metadata": {},
   "outputs": [
    {
     "name": "stdout",
     "output_type": "stream",
     "text": [
      "=SI((NO.SEMAINE($C$3))=dates!$C$1,arab_5!$L$1,SI((NO.SEMAINE($C$3))=dates!$C$2,arab_5!$L$2,SI((NO.SEMAINE($C$3))=dates!$C$3,arab_5!$L$3,SI((NO.SEMAINE($C$3))=dates!$C$4,arab_5!$L$4,SI((NO.SEMAINE($C$3))=dates!$C$5,arab_5!$L$5,SI((NO.SEMAINE($C$3))=dates!$C$6,arab_5!$L$6,SI((NO.SEMAINE($C$3))=dates!$C$7,arab_5!$L$7,SI((NO.SEMAINE($C$3))=dates!$C$8,arab_5!$L$8,SI((NO.SEMAINE($C$3))=dates!$C$9,arab_5!$L$9,SI((NO.SEMAINE($C$3))=dates!$C$10,arab_5!$L$10,SI((NO.SEMAINE($C$3))=dates!$C$11,arab_5!$L$11,SI((NO.SEMAINE($C$3))=dates!$C$12,arab_5!$L$12,SI((NO.SEMAINE($C$3))=dates!$C$13,arab_5!$L$13,SI((NO.SEMAINE($C$3))=dates!$C$14,arab_5!$L$14,SI((NO.SEMAINE($C$3))=dates!$C$15,arab_5!$L$15,SI((NO.SEMAINE($C$3))=dates!$C$16,arab_5!$L$16,SI((NO.SEMAINE($C$3))=dates!$C$17,arab_5!$L$17,SI((NO.SEMAINE($C$3))=dates!$C$18,arab_5!$L$18,SI((NO.SEMAINE($C$3))=dates!$C$19,arab_5!$L$19,SI((NO.SEMAINE($C$3))=dates!$C$20,arab_5!$L$20,SI((NO.SEMAINE($C$3))=dates!$C$21,arab_5!$L$21,SI((NO.SEMAINE($C$3))=dates!$C$22,arab_5!$L$22,SI((NO.SEMAINE($C$3))=dates!$C$23,arab_5!$L$23,SI((NO.SEMAINE($C$3))=dates!$C$24,arab_5!$L$24,SI((NO.SEMAINE($C$3))=dates!$C$25,arab_5!$L$25,SI((NO.SEMAINE($C$3))=dates!$C$26,arab_5!$L$26,SI((NO.SEMAINE($C$3))=dates!$C$27,arab_5!$L$27,SI((NO.SEMAINE($C$3))=dates!$C$28,arab_5!$L$28,SI((NO.SEMAINE($C$3))=dates!$C$29,arab_5!$L$29,SI((NO.SEMAINE($C$3))=dates!$C$30,arab_5!$L$30,SI((NO.SEMAINE($C$3))=dates!$C$31,arab_5!$L$31,SI((NO.SEMAINE($C$3))=dates!$C$32,arab_5!$L$32,SI((NO.SEMAINE($C$3))=dates!$C$33,arab_5!$L$33,SI((NO.SEMAINE($C$3))=dates!$C$34,arab_5!$L$34,SI((NO.SEMAINE($C$3))=dates!$C$35,arab_5!$L$35,SI((NO.SEMAINE($C$3))=dates!$C$36,arab_5!$L$36,SI((NO.SEMAINE($C$3))=dates!$C$37,arab_5!$L$37,SI((NO.SEMAINE($C$3))=dates!$C$38,arab_5!$L$38,SI((NO.SEMAINE($C$3))=dates!$C$39,arab_5!$L$39,))))))))))))))))))))))))))))))))))))))))\n"
     ]
    }
   ],
   "source": [
    "print(arab(5, hg2))"
   ]
  },
  {
   "cell_type": "code",
   "execution_count": null,
   "metadata": {},
   "outputs": [],
   "source": []
  },
  {
   "cell_type": "code",
   "execution_count": null,
   "metadata": {},
   "outputs": [],
   "source": []
  }
 ],
 "metadata": {
  "kernelspec": {
   "display_name": "Python 3",
   "language": "python",
   "name": "python3"
  },
  "language_info": {
   "codemirror_mode": {
    "name": "ipython",
    "version": 3
   },
   "file_extension": ".py",
   "mimetype": "text/x-python",
   "name": "python",
   "nbconvert_exporter": "python",
   "pygments_lexer": "ipython3",
   "version": "3.7.1"
  }
 },
 "nbformat": 4,
 "nbformat_minor": 2
}
