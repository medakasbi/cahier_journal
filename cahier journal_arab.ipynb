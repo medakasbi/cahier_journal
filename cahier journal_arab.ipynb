{
 "cells": [
  {
   "cell_type": "code",
   "execution_count": 1,
   "metadata": {},
   "outputs": [
    {
     "data": {
      "text/plain": [
       "'C:\\\\Users\\\\souss'"
      ]
     },
     "execution_count": 1,
     "metadata": {},
     "output_type": "execute_result"
    }
   ],
   "source": [
    "pwd"
   ]
  },
  {
   "cell_type": "code",
   "execution_count": 22,
   "metadata": {
    "collapsed": true
   },
   "outputs": [],
   "source": [
    "st = \"SI((NO.SEMAINE($C$3)-1)=dates!$C$5;francais_5!$E$5\""
   ]
  },
  {
   "cell_type": "code",
   "execution_count": 29,
   "metadata": {
    "collapsed": true
   },
   "outputs": [],
   "source": [
    "def arab_lundi(niveau, matiere):\n",
    "    ans = \"\"\n",
    "    for idx in range(35):\n",
    "        ans += \"SI((NO.SEMAINE($C$3)-1)=dates!$C$\"+str(5+idx)+\";arab_\" + str(niveau)+\"!$\"+matiere+\"$\"+str(5+idx)+\";\"\n",
    "    ans += 35*\")\"\n",
    "    return \"=\" + ans\n",
    "    pass"
   ]
  },
  {
   "cell_type": "code",
   "execution_count": 30,
   "metadata": {
    "collapsed": true
   },
   "outputs": [],
   "source": [
    "def arab(niveau, matiere):\n",
    "    ans = \"\"\n",
    "    for idx in range(35):\n",
    "        ans += \"SI((NO.SEMAINE($C$3))=dates!$C$\"+str(5+idx)+\";arab_\" + str(niveau)+\"!$\"+matiere+\"$\"+str(5+idx)+\";\"\n",
    "    ans += 35*\")\"\n",
    "    return \"=\" + ans\n",
    "    pass"
   ]
  },
  {
   "cell_type": "code",
   "execution_count": 31,
   "metadata": {
    "collapsed": true
   },
   "outputs": [],
   "source": [
    "islamic1 = \"D\"\n",
    "islamic2 = \"E\"\n",
    "qiraa = \"F\"\n",
    "tarakib = \"G\"\n",
    "sarf = \"H\"\n",
    "chakl_imlaa = \"I\" \n",
    "inchaa =  \"J\"\n",
    "hg1 = \"K\"\n",
    "hg2 = \"L\"\n",
    "art = \"M\"\n",
    "sci = \"N\""
   ]
  },
  {
   "cell_type": "code",
   "execution_count": 38,
   "metadata": {},
   "outputs": [
    {
     "name": "stdout",
     "output_type": "stream",
     "text": [
      "=SI((NO.SEMAINE($C$3))=dates!$C$5;arab_6!$K$5;SI((NO.SEMAINE($C$3))=dates!$C$6;arab_6!$K$6;SI((NO.SEMAINE($C$3))=dates!$C$7;arab_6!$K$7;SI((NO.SEMAINE($C$3))=dates!$C$8;arab_6!$K$8;SI((NO.SEMAINE($C$3))=dates!$C$9;arab_6!$K$9;SI((NO.SEMAINE($C$3))=dates!$C$10;arab_6!$K$10;SI((NO.SEMAINE($C$3))=dates!$C$11;arab_6!$K$11;SI((NO.SEMAINE($C$3))=dates!$C$12;arab_6!$K$12;SI((NO.SEMAINE($C$3))=dates!$C$13;arab_6!$K$13;SI((NO.SEMAINE($C$3))=dates!$C$14;arab_6!$K$14;SI((NO.SEMAINE($C$3))=dates!$C$15;arab_6!$K$15;SI((NO.SEMAINE($C$3))=dates!$C$16;arab_6!$K$16;SI((NO.SEMAINE($C$3))=dates!$C$17;arab_6!$K$17;SI((NO.SEMAINE($C$3))=dates!$C$18;arab_6!$K$18;SI((NO.SEMAINE($C$3))=dates!$C$19;arab_6!$K$19;SI((NO.SEMAINE($C$3))=dates!$C$20;arab_6!$K$20;SI((NO.SEMAINE($C$3))=dates!$C$21;arab_6!$K$21;SI((NO.SEMAINE($C$3))=dates!$C$22;arab_6!$K$22;SI((NO.SEMAINE($C$3))=dates!$C$23;arab_6!$K$23;SI((NO.SEMAINE($C$3))=dates!$C$24;arab_6!$K$24;SI((NO.SEMAINE($C$3))=dates!$C$25;arab_6!$K$25;SI((NO.SEMAINE($C$3))=dates!$C$26;arab_6!$K$26;SI((NO.SEMAINE($C$3))=dates!$C$27;arab_6!$K$27;SI((NO.SEMAINE($C$3))=dates!$C$28;arab_6!$K$28;SI((NO.SEMAINE($C$3))=dates!$C$29;arab_6!$K$29;SI((NO.SEMAINE($C$3))=dates!$C$30;arab_6!$K$30;SI((NO.SEMAINE($C$3))=dates!$C$31;arab_6!$K$31;SI((NO.SEMAINE($C$3))=dates!$C$32;arab_6!$K$32;SI((NO.SEMAINE($C$3))=dates!$C$33;arab_6!$K$33;SI((NO.SEMAINE($C$3))=dates!$C$34;arab_6!$K$34;SI((NO.SEMAINE($C$3))=dates!$C$35;arab_6!$K$35;SI((NO.SEMAINE($C$3))=dates!$C$36;arab_6!$K$36;SI((NO.SEMAINE($C$3))=dates!$C$37;arab_6!$K$37;SI((NO.SEMAINE($C$3))=dates!$C$38;arab_6!$K$38;SI((NO.SEMAINE($C$3))=dates!$C$39;arab_6!$K$39;)))))))))))))))))))))))))))))))))))\n"
     ]
    }
   ],
   "source": [
    "print(arab(6, hg1))"
   ]
  },
  {
   "cell_type": "code",
   "execution_count": null,
   "metadata": {
    "collapsed": true
   },
   "outputs": [],
   "source": []
  }
 ],
 "metadata": {
  "kernelspec": {
   "display_name": "Python 3",
   "language": "python",
   "name": "python3"
  },
  "language_info": {
   "codemirror_mode": {
    "name": "ipython",
    "version": 3
   },
   "file_extension": ".py",
   "mimetype": "text/x-python",
   "name": "python",
   "nbconvert_exporter": "python",
   "pygments_lexer": "ipython3",
   "version": "3.6.2"
  }
 },
 "nbformat": 4,
 "nbformat_minor": 2
}
