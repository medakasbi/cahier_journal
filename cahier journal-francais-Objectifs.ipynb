{
 "cells": [
  {
   "cell_type": "code",
   "execution_count": 1,
   "metadata": {},
   "outputs": [
    {
     "data": {
      "text/plain": [
       "'C:\\\\Users\\\\asus-A9\\\\Documents\\\\GitHub\\\\AnacondaWorkingSpace\\\\Python\\\\cahier_journal'"
      ]
     },
     "execution_count": 1,
     "metadata": {},
     "output_type": "execute_result"
    }
   ],
   "source": [
    "pwd"
   ]
  },
  {
   "cell_type": "code",
   "execution_count": 2,
   "metadata": {},
   "outputs": [],
   "source": [
    "st = \"SI((NO.SEMAINE($C$3)-1)=dates!$C$5;francais_5!$E$5\""
   ]
  },
  {
   "cell_type": "code",
   "execution_count": 12,
   "metadata": {},
   "outputs": [],
   "source": [
    "def obj_fran_lundi(niveau, matiere):\n",
    "    ans = \"\"\n",
    "    for idx in range(2, 40):\n",
    "        ans += \"SI((NO.SEMAINE($C$3)-1)=dates!$C$\"+str(idx)+\",obj_fr_\" + str(niveau)+\"!$\"+matiere+\"$\"+str(idx)+\",\"\n",
    "    ans += 39*\")\"\n",
    "    return \"=\" + ans\n",
    "    pass"
   ]
  },
  {
   "cell_type": "code",
   "execution_count": 13,
   "metadata": {},
   "outputs": [],
   "source": [
    "def obj_fran(niveau, matiere):\n",
    "    ans = \"\"\n",
    "    for idx in range(2, 40):\n",
    "        ans += \"SI((NO.SEMAINE($C$3))=dates!$C$\"+str(idx)+\",obj_fr_\" + str(niveau)+\"!$\"+matiere+\"$\"+str(idx)+\",\"\n",
    "    ans += 39*\")\"\n",
    "    return \"=\" + ans\n",
    "    pass"
   ]
  },
  {
   "cell_type": "code",
   "execution_count": 14,
   "metadata": {},
   "outputs": [],
   "source": [
    "math1 = \"E\"\n",
    "math2 = \"F\"\n",
    "communication = \"G\"\n",
    "lecture_comprehension = \"H\"\n",
    "grammaire = \"I\"\n",
    "conjugaison = \"J\" \n",
    "lexique =  \"k\"\n",
    "orthographe = \"l\"\n",
    "production_de_l_ecrit = \"m\"\n",
    "lecture_diction = \"o\"\n",
    "projet_de_classe = \"n\"\n",
    "education_sportive = \"p\""
   ]
  },
  {
   "cell_type": "code",
   "execution_count": 28,
   "metadata": {},
   "outputs": [
    {
     "name": "stdout",
     "output_type": "stream",
     "text": [
      "=SI((NO.SEMAINE($C$3))=dates!$C$2,obj_fr_6!$m$2,SI((NO.SEMAINE($C$3))=dates!$C$3,obj_fr_6!$m$3,SI((NO.SEMAINE($C$3))=dates!$C$4,obj_fr_6!$m$4,SI((NO.SEMAINE($C$3))=dates!$C$5,obj_fr_6!$m$5,SI((NO.SEMAINE($C$3))=dates!$C$6,obj_fr_6!$m$6,SI((NO.SEMAINE($C$3))=dates!$C$7,obj_fr_6!$m$7,SI((NO.SEMAINE($C$3))=dates!$C$8,obj_fr_6!$m$8,SI((NO.SEMAINE($C$3))=dates!$C$9,obj_fr_6!$m$9,SI((NO.SEMAINE($C$3))=dates!$C$10,obj_fr_6!$m$10,SI((NO.SEMAINE($C$3))=dates!$C$11,obj_fr_6!$m$11,SI((NO.SEMAINE($C$3))=dates!$C$12,obj_fr_6!$m$12,SI((NO.SEMAINE($C$3))=dates!$C$13,obj_fr_6!$m$13,SI((NO.SEMAINE($C$3))=dates!$C$14,obj_fr_6!$m$14,SI((NO.SEMAINE($C$3))=dates!$C$15,obj_fr_6!$m$15,SI((NO.SEMAINE($C$3))=dates!$C$16,obj_fr_6!$m$16,SI((NO.SEMAINE($C$3))=dates!$C$17,obj_fr_6!$m$17,SI((NO.SEMAINE($C$3))=dates!$C$18,obj_fr_6!$m$18,SI((NO.SEMAINE($C$3))=dates!$C$19,obj_fr_6!$m$19,SI((NO.SEMAINE($C$3))=dates!$C$20,obj_fr_6!$m$20,SI((NO.SEMAINE($C$3))=dates!$C$21,obj_fr_6!$m$21,SI((NO.SEMAINE($C$3))=dates!$C$22,obj_fr_6!$m$22,SI((NO.SEMAINE($C$3))=dates!$C$23,obj_fr_6!$m$23,SI((NO.SEMAINE($C$3))=dates!$C$24,obj_fr_6!$m$24,SI((NO.SEMAINE($C$3))=dates!$C$25,obj_fr_6!$m$25,SI((NO.SEMAINE($C$3))=dates!$C$26,obj_fr_6!$m$26,SI((NO.SEMAINE($C$3))=dates!$C$27,obj_fr_6!$m$27,SI((NO.SEMAINE($C$3))=dates!$C$28,obj_fr_6!$m$28,SI((NO.SEMAINE($C$3))=dates!$C$29,obj_fr_6!$m$29,SI((NO.SEMAINE($C$3))=dates!$C$30,obj_fr_6!$m$30,SI((NO.SEMAINE($C$3))=dates!$C$31,obj_fr_6!$m$31,SI((NO.SEMAINE($C$3))=dates!$C$32,obj_fr_6!$m$32,SI((NO.SEMAINE($C$3))=dates!$C$33,obj_fr_6!$m$33,SI((NO.SEMAINE($C$3))=dates!$C$34,obj_fr_6!$m$34,SI((NO.SEMAINE($C$3))=dates!$C$35,obj_fr_6!$m$35,SI((NO.SEMAINE($C$3))=dates!$C$36,obj_fr_6!$m$36,SI((NO.SEMAINE($C$3))=dates!$C$37,obj_fr_6!$m$37,SI((NO.SEMAINE($C$3))=dates!$C$38,obj_fr_6!$m$38,SI((NO.SEMAINE($C$3))=dates!$C$39,obj_fr_6!$m$39,)))))))))))))))))))))))))))))))))))))))\n"
     ]
    }
   ],
   "source": [
    "print(obj_fran(6, production_de_l_ecrit))"
   ]
  },
  {
   "cell_type": "code",
   "execution_count": null,
   "metadata": {},
   "outputs": [],
   "source": []
  },
  {
   "cell_type": "code",
   "execution_count": null,
   "metadata": {},
   "outputs": [],
   "source": []
  }
 ],
 "metadata": {
  "kernelspec": {
   "display_name": "Python 3",
   "language": "python",
   "name": "python3"
  },
  "language_info": {
   "codemirror_mode": {
    "name": "ipython",
    "version": 3
   },
   "file_extension": ".py",
   "mimetype": "text/x-python",
   "name": "python",
   "nbconvert_exporter": "python",
   "pygments_lexer": "ipython3",
   "version": "3.7.1"
  }
 },
 "nbformat": 4,
 "nbformat_minor": 2
}
